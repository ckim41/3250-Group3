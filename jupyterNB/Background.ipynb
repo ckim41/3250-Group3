{
 "cells": [
  {
   "cell_type": "markdown",
   "metadata": {},
   "source": [
    "#### Proposed analytics for each selected category:\n",
    "1. Category statistics (max, min, mean, etc.)\n",
    "2. Trend over the whole period (increase, decrease, fluky)\n",
    "3. Correlation between selected category and one or multiple other categories (as per table below)\n",
    "The result of analysis for all selected categories will contribute to our recommendations in the conclusion. \n",
    "P.S.: We don't need to analyse all categories.\n",
    "\n",
    "|Correlation combination|Collision date (day of week, hour)|Collision severity|Number of vehicles involved in collision|Collision configuration|Weather condition|Vehicle type|\n",
    "|:---|:--|:--|:--|:--|:--|:--|\n",
    "|Road alignment|R|R|R|R|-|-|\n",
    "|Vehicle type|R|R|R|R|R|-|\n",
    "|Vehicle model year|R|R|R|R|R|R|\n"
   ]
  },
  {
   "cell_type": "markdown",
   "metadata": {},
   "source": [
    "##### Collision level data elements\n",
    "\n",
    "|Data element|Columns|Column size|Definition|\n",
    "|--|--|--|--|\n",
    "|C_YEAR|1 – 4|4|Year|\n",
    "|C_MNTH|5 – 6|2|Month|\n",
    "|C_WDAY|7|1|Day of week|\n",
    "|C_HOUR|8 – 9|2|Collision hour|\n",
    "|C_SEV|10|1|Collision severity|\n",
    "|C_VEHS|11 – 12|2|Number of vehicles involved in collision|\n",
    "|C_CONF|13 – 14|2|Collision configuration|\n",
    "|C_RCFG|15 – 16|2|Roadway configuration|\n",
    "|C_WTHR|17|1|Weather condition|\n",
    "|C_RSUR|18|1|Road surface|\n",
    "|C_RALN|19|1|Road alignment|\n",
    "|C_TRAF|20 – 21|2|Traffic control|"
   ]
  },
  {
   "cell_type": "markdown",
   "metadata": {},
   "source": [
    "##### Vehicle level data elements\n",
    "\n",
    "|Data element|Columns|Column size|Definition|\n",
    "|--|--|--|--|\n",
    "|V_ID|22 – 23|2|Vehicle sequence number|\n",
    "|V_TYPE|24 – 25|2|Vehicle type|\n",
    "|V_YEAR|26 – 29|4|Vehicle model year|"
   ]
  },
  {
   "cell_type": "markdown",
   "metadata": {},
   "source": [
    "##### Person level data elements\n",
    "\n",
    "|Data element|Columns|Column size|Definition|\n",
    "|--|--|--|--|\n",
    "|P_ID|30 – 31|2|Person sequence number|\n",
    "|P_SEX|32|1|Person sex|\n",
    "|P_AGE|33 – 34|2|Person age|\n",
    "|P_PSN|35 – 36|2|Person position|\n",
    "|P_ISEV|37|1|Medical treatment required|\n",
    "|P_SAFE|38 – 39|2|Safety device used|\n",
    "|P_USER|40|1|Road user class|"
   ]
  },
  {
   "cell_type": "markdown",
   "metadata": {},
   "source": [
    "##### C_RALN - Road Alignment\n",
    "\n",
    "|Code| Description|\n",
    "|--|:--|\n",
    "|1|Straight and level|\n",
    "|2|Straight with gradient|\n",
    "|3|Curved and level|\n",
    "|4|Curved with gradient|\n",
    "|5|Top of hill or gradient|\n",
    "|6|Bottom of hill or gradient \"Sag\"|\n",
    "|Q|Choice is other than the preceding values|\n",
    "|U|Unknown|\n",
    "|X|Jurisdiction does not provide this data element|"
   ]
  },
  {
   "cell_type": "markdown",
   "metadata": {},
   "source": [
    "#### C_SEV - Collision Severity\n",
    "|Code|Description\n",
    "|--|:--\n",
    "|1|Collision producing at least one fatality\n",
    "|2|Collision producing non-fatal injury\n",
    "|U|Unknown\n",
    "|X|Jurisdiction does not provide this data element"
   ]
  },
  {
   "cell_type": "markdown",
   "metadata": {},
   "source": [
    "#### C_VEHS - Number of vehicles involved in collision\n",
    "|Code| Description\n",
    "|--|--\n",
    "|01 - 98| 01 - 98 vehicles involved.\n",
    "|99| 99 or more vehicles involved.\n",
    "|UU| Unknown\n",
    "|XX| Jurisdiction does not provide this data element\n",
    "\n",
    "\n"
   ]
  },
  {
   "cell_type": "markdown",
   "metadata": {},
   "source": [
    "#### C_CONF - Collision Configuration\n",
    "|Code| Description\n",
    "|--|--\n",
    "|Single Vehicle in Motion:\n",
    "|01| Hit a moving object E.g. a person or an animal\n",
    "|02| Hit a stationary object E.g. a tree\n",
    "|03| Ran off left shoulder Including rollover in the left ditch\n",
    "|04| Ran off right shoulder Including rollover in the right ditch\n",
    "|05| Rollover on roadway\n",
    "|06| Any other single vehicle collision configuration\n",
    "|Two Vehicles in Motion - Same Direction of Travel:\n",
    "|21| Rear-end collision\n",
    "|22| Side swipe\n",
    "|23| One vehicle passing to the left of the other, or left turn conflict\n",
    "|24| One vehicle passing to the right of the other, or right turn conflict\n",
    "|25| Any other two vehicle - same direction of travel configuration\n",
    "|Two Vehicles in Motion - Different Direction of Travel:\n",
    "|31| Head-on collision\n",
    "|32| Approaching side-swipe\n",
    "|33| Left turn across opposing traffic\n",
    "|34| Right turn, including turning conflicts\n",
    "|35| Right angle collision\n",
    "|36| Any other two-vehicle - different direction of travel configuration\n",
    "|Two Vehicles - Hit a Parked Motor Vehicle:\n",
    "|41| Hit a parked motor vehicle\n",
    "|QQ| Choice is other than the preceding values\n",
    "|UU| Unknown\n",
    "|XX| Jurisdiction does not provide this data element\n",
    "\n"
   ]
  },
  {
   "cell_type": "markdown",
   "metadata": {},
   "source": [
    "#### C_WTHR - Weather condition\n",
    "|Code| Description\n",
    "|--|--\n",
    "|1| Clear and sunny\n",
    "|2| Overcast, cloudy but no precipitation\n",
    "|3| Raining\n",
    "|4| Snowing, not including drifting snow\n",
    "|5| Freezing rain, sleet, hail\n",
    "|6| Visibility limitation e.g. drifting snow, fog, smog, dust, smoke, mist\n",
    "|7| Strong wind\n",
    "|Q| Choice is other than the preceding values\n",
    "|U| Unknown\n",
    "|X| Jurisdiction does not provide this data element"
   ]
  },
  {
   "cell_type": "markdown",
   "metadata": {},
   "source": [
    "#### V_TYPE - Vehicle type\n",
    "|Code |Description|\n",
    "|--|--|--\n",
    "|01| Light Duty Vehicle |Passenger car, Passenger van, Light utility vehicles and light duty pick up trucks)\n",
    "|05| Panel/cargo van <= 4536 KG GVWR |Panel or window type of van designed primarily for carrying goods.\n",
    "|06| Other trucks and vans <= 4536 KG GVWR |Unspecified, or any other types of LTVs that do not fit into the above categories(e.g.. delivery or service vehicles, chip wagons, small tow trucks etc.)\n",
    "|07| Unit trucks > 4536 KG GVWR |All heavy unit trucks, with or without a trailer\n",
    "|08| Road tractor |With or without a semi-trailer\n",
    "|09| School bus |Standard large type\n",
    "|10| Smaller school bus |Smaller type, seats < 25 passengers\n",
    "|11| Urban and Intercity Bus\n",
    "|14| Motorcycle and moped |Motorcycle and limited-speed motorcycle\n",
    "|16| Off road vehicles |Off road motorcycles (e.g. dirt bikes) and all terrain vehicles\n",
    "|17| Bicycle\n",
    "|18| Purpose-built motorhome |Exclude pickup campers\n",
    "|19| Farm equipment\n",
    "|20| Construction equipment\n",
    "|21| Fire engine\n",
    "|22| Snowmobile\n",
    "|23| Street car\n",
    "|NN| Data element is not applicable |e.g. \"dummy\" vehicle record created for the pedestrian\n",
    "|QQ| Choice is other than the preceding values\n",
    "|UU| Unknown\n",
    "|XX| Jurisdiction does not provide this data element\n",
    "\n",
    "\n",
    "\n"
   ]
  },
  {
   "cell_type": "markdown",
   "metadata": {},
   "source": [
    "V_YEAR - Vehicle Model Year\n",
    "\n",
    "|Code| Description\n",
    "|--|--\n",
    "|19yy-20yy| Model Year 19YY to 20YY where 00<= YY <= Current Year + 1\n",
    "|NNNN| Data element is not applicable e.g. \"dummy\" vehicle record created for the pedestrian\n",
    "|UUUU| Unknown\n",
    "|XXXX| Jurisdiction does not provide this data element"
   ]
  },
  {
   "cell_type": "code",
   "execution_count": null,
   "metadata": {},
   "outputs": [],
   "source": []
  }
 ],
 "metadata": {
  "kernelspec": {
   "display_name": "Python 3",
   "language": "python",
   "name": "python3"
  },
  "language_info": {
   "codemirror_mode": {
    "name": "ipython",
    "version": 3
   },
   "file_extension": ".py",
   "mimetype": "text/x-python",
   "name": "python",
   "nbconvert_exporter": "python",
   "pygments_lexer": "ipython3",
   "version": "3.6.4"
  }
 },
 "nbformat": 4,
 "nbformat_minor": 2
}
